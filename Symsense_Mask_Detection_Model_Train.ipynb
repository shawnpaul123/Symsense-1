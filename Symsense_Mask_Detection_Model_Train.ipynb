{
  "nbformat": 4,
  "nbformat_minor": 0,
  "metadata": {
    "colab": {
      "name": "Symsense_Mask_Detection_Model_Train.ipynb",
      "provenance": [],
      "collapsed_sections": [],
      "toc_visible": true
    },
    "kernelspec": {
      "name": "python3",
      "display_name": "Python 3"
    },
    "accelerator": "GPU"
  },
  "cells": [
    {
      "cell_type": "markdown",
      "metadata": {
        "id": "2m9jlirmtgDq"
      },
      "source": [
        "#Training of Mask Dataset"
      ]
    },
    {
      "cell_type": "code",
      "metadata": {
        "id": "i2R8LWUJtkdr"
      },
      "source": [
        "from tensorflow.keras.preprocessing.image import ImageDataGenerator\n",
        "from tensorflow.keras.applications import MobileNetV2\n",
        "from tensorflow.keras.layers import AveragePooling2D\n",
        "from tensorflow.keras.layers import Dropout\n",
        "from tensorflow.keras.layers import Flatten\n",
        "from tensorflow.keras.layers import Dense\n",
        "from tensorflow.keras.layers import Input\n",
        "from tensorflow.keras.models import Model\n",
        "from tensorflow.keras.optimizers import Adam\n",
        "from tensorflow.keras.applications.mobilenet_v2 import preprocess_input\n",
        "from tensorflow.keras.preprocessing.image import img_to_array\n",
        "from tensorflow.keras.preprocessing.image import load_img\n",
        "from tensorflow.keras.utils import to_categorical\n",
        "from sklearn.preprocessing import LabelBinarizer\n",
        "from sklearn.model_selection import train_test_split\n",
        "from sklearn.metrics import classification_report\n",
        "from imutils import paths\n",
        "import matplotlib.pyplot as plt\n",
        "import numpy as np\n",
        "import argparse\n",
        "import os"
      ],
      "execution_count": null,
      "outputs": []
    },
    {
      "cell_type": "markdown",
      "metadata": {
        "id": "Q_PxXxRBwHFN"
      },
      "source": [
        "- insert path to both image files\n",
        "- run edits and train model\n",
        "- test on random 5 images\n",
        "- prune model\n",
        "- save model weights\n",
        "- download.py and try running on local computer with the necessary dependancies\n",
        "- after that upload to github with appropriate credits\n"
      ]
    },
    {
      "cell_type": "code",
      "metadata": {
        "colab": {
          "base_uri": "https://localhost:8080/"
        },
        "id": "3JzqVT3B4Ihg",
        "outputId": "9007cb7d-d1a2-44d9-e8d8-3adb72358538"
      },
      "source": [
        "#colab imports - change if exporting elsewhere\n",
        "from google.colab import drive\n",
        "import zipfile\n",
        "drive.mount('/content/drive')\n",
        "\n",
        "\n",
        "#global variables\n",
        "with_mask_loc = \"/content/drive/My Drive/Symsense_Models/with_mask.zip\"\n",
        "without_mask_loc = \"/content/drive/My Drive/Symsense_Models/without_mask.zip\"\n",
        "\n",
        "\n",
        "zip_ref_with_mask = zipfile.ZipFile(with_mask_loc, 'r')\n",
        "zip_ref_without_mask = zipfile.ZipFile(without_mask_loc, 'r')\n",
        "zip_ref_with_mask.extractall(\"/tmp\")\n",
        "zip_ref_with_mask.close()\n",
        "zip_ref_without_mask.extractall(\"/tmp\")\n",
        "zip_ref_without_mask.close()\n"
      ],
      "execution_count": null,
      "outputs": [
        {
          "output_type": "stream",
          "text": [
            "Mounted at /content/drive\n"
          ],
          "name": "stdout"
        }
      ]
    },
    {
      "cell_type": "code",
      "metadata": {
        "id": "9XMxSleZ710L"
      },
      "source": [
        "with_mask_loc = '/tmp/with_mask/'\n",
        "without_mask_loc ='/tmp/without_mask/'\n",
        "model_store = \"/content/drive/My Drive/Symsense_Models/\"\n",
        "#print(os.listdir(with_mask_loc))"
      ],
      "execution_count": null,
      "outputs": []
    },
    {
      "cell_type": "code",
      "metadata": {
        "id": "uIhhMaMot7ek",
        "colab": {
          "base_uri": "https://localhost:8080/"
        },
        "outputId": "e89fc4c1-0197-423c-f7c1-175debdaedff"
      },
      "source": [
        "learn_rate = 1e-4\n",
        "epochs = 25\n",
        "batch_size = 32\n",
        "\n",
        "image_list = []\n",
        "label_list = []\n",
        "imagePaths_mask = [with_mask_loc + i for i in os.listdir(with_mask_loc)]\n",
        "imagePaths_without_mask = [without_mask_loc + i for i in os.listdir(without_mask_loc)]\n",
        "#load all images as array\n",
        "\n",
        "\n",
        "def load_images(imagePaths):\n",
        "  data,labels = [],[]\n",
        "  for imagePath in imagePaths:\n",
        "    # extract the class label from the filename    \n",
        "    label = imagePath.split(os.path.sep)[-2]\n",
        "    # load the input image (224x224) and preprocess it\n",
        "    image = load_img(imagePath, target_size=(224, 224))\n",
        "    image = img_to_array(image)\n",
        "    image = preprocess_input(image)\n",
        "    # update the data and labels lists, respectively\n",
        "    data.append(image)\n",
        "    labels.append(label)\n",
        "  \n",
        "  return data,labels\n",
        "\n",
        "\n",
        "#have load of no mask images\n",
        "image_list_mask, label_list_mask = load_images(imagePaths_mask)\n",
        "image_list_without_mask, label_list_without_mask = load_images(imagePaths_without_mask)\n",
        "\n",
        "image_list = image_list_mask + image_list_without_mask\n",
        "label_list = label_list_mask + label_list_without_mask\n",
        "print(len(image_list))"
      ],
      "execution_count": null,
      "outputs": [
        {
          "output_type": "stream",
          "text": [
            "1376\n"
          ],
          "name": "stdout"
        }
      ]
    },
    {
      "cell_type": "code",
      "metadata": {
        "colab": {
          "base_uri": "https://localhost:8080/"
        },
        "id": "oefA39nIM6dK",
        "outputId": "128717d3-3e62-417b-8417-d52bab9c6840"
      },
      "source": [
        "data = np.array(image_list, dtype=\"float32\")\n",
        "print(data.shape)\n",
        "labels = np.array(label_list)\n",
        "print(labels.shape)\n",
        "\n",
        "# perform one-hot encoding on the labels\n",
        "lb = LabelBinarizer()\n",
        "labels = lb.fit_transform(labels)\n",
        "labels = to_categorical(labels)"
      ],
      "execution_count": null,
      "outputs": [
        {
          "output_type": "stream",
          "text": [
            "(1376, 224, 224, 3)\n",
            "(1376,)\n"
          ],
          "name": "stdout"
        }
      ]
    },
    {
      "cell_type": "code",
      "metadata": {
        "id": "7dzRS0jdNoO_"
      },
      "source": [
        "\n",
        "\n",
        "# partition the data into training and testing splits using 80% of\n",
        "# the data for training and the remaining 20% for testing\n",
        "# construct the training image generator for data augmentation\n",
        "\n",
        "(trainX, testX, trainY, testY) = train_test_split(data, labels,\n",
        "  test_size=0.20, stratify=labels, random_state=42)\n"
      ],
      "execution_count": null,
      "outputs": []
    },
    {
      "cell_type": "code",
      "metadata": {
        "colab": {
          "base_uri": "https://localhost:8080/"
        },
        "id": "hZpnWqg-NyDi",
        "outputId": "12f835e0-a3e4-4d77-e5a5-ac5675311dbc"
      },
      "source": [
        "\n",
        "#have mobilenet v2 setup\n",
        "class image_model_class:\n",
        "\n",
        "  def __init__(self):\n",
        "    self.pool_size = 7\n",
        "    self.activation = 'softmax'\n",
        "    self.learn_rate = 1e-4\n",
        "    self.epochs = 50\n",
        "\n",
        "    self.batch_size = 32\n",
        "    self.aug = ImageDataGenerator(\n",
        "        rotation_range=20,\n",
        "        zoom_range=0.15,\n",
        "        width_shift_range=0.2,\n",
        "        height_shift_range=0.2,\n",
        "        shear_range=0.15,\n",
        "        horizontal_flip=True,\n",
        "        fill_mode=\"nearest\")\n",
        "\n",
        "  def make_model(self):\n",
        "    baseModel = MobileNetV2(weights=\"imagenet\", include_top=False,\n",
        "\t    input_tensor=Input(shape=(224, 224, 3)))\n",
        "    \n",
        "    headModel = baseModel.output\n",
        "    headModel = AveragePooling2D(pool_size=(7, 7))(headModel)\n",
        "    headModel = Flatten(name=\"flatten\")(headModel)\n",
        "    headModel = Dense(128, activation=\"relu\")(headModel)\n",
        "    headModel = Dropout(0.5)(headModel)\n",
        "    headModel = Dense(2, activation=\"softmax\")(headModel)\n",
        "\n",
        "    model = Model(inputs=baseModel.input, outputs=headModel)\n",
        "\n",
        "    for layer in baseModel.layers:\n",
        "\t    layer.trainable = False\n",
        "\n",
        "    return model\n",
        "\n",
        "\n",
        "  def compile_fit(self,trainX, trainY,testX, testY):\n",
        "    opt = Adam(lr=learn_rate, decay=learn_rate /epochs)\n",
        "    model = self.make_model()\n",
        "    model.compile(loss=\"binary_crossentropy\", optimizer=opt,\n",
        "\t    metrics=[\"accuracy\"])\n",
        "    \n",
        "\n",
        "    H = model.fit(\n",
        "      self.aug.flow(trainX, trainY, batch_size=self.batch_size),\n",
        "      steps_per_epoch=len(trainX) // self.batch_size,\n",
        "      validation_data=(testX, testY),\n",
        "      validation_steps=len(testX) // self.batch_size,\n",
        "      epochs=self.epochs)\n",
        "    \n",
        "\n",
        "    return model,H\n",
        "\n",
        "\n",
        "    \n",
        "\n",
        "imc = image_model_class()\n",
        "model,H = imc.compile_fit(trainX, trainY,testX, testY)\n",
        "\n",
        "\n",
        "\n"
      ],
      "execution_count": null,
      "outputs": [
        {
          "output_type": "stream",
          "text": [
            "WARNING:tensorflow:`input_shape` is undefined or non-square, or `rows` is not in [96, 128, 160, 192, 224]. Weights for input shape (224, 224) will be loaded as the default.\n",
            "Epoch 1/50\n",
            "34/34 [==============================] - 19s 475ms/step - loss: 0.7007 - accuracy: 0.6549 - val_loss: 0.2581 - val_accuracy: 0.9891\n",
            "Epoch 2/50\n",
            "34/34 [==============================] - 14s 396ms/step - loss: 0.2518 - accuracy: 0.9633 - val_loss: 0.1201 - val_accuracy: 0.9928\n",
            "Epoch 3/50\n",
            "34/34 [==============================] - 14s 398ms/step - loss: 0.1579 - accuracy: 0.9694 - val_loss: 0.0707 - val_accuracy: 0.9964\n",
            "Epoch 4/50\n",
            "34/34 [==============================] - 14s 400ms/step - loss: 0.0851 - accuracy: 0.9902 - val_loss: 0.0489 - val_accuracy: 0.9964\n",
            "Epoch 5/50\n",
            "34/34 [==============================] - 14s 402ms/step - loss: 0.0705 - accuracy: 0.9909 - val_loss: 0.0369 - val_accuracy: 0.9964\n",
            "Epoch 6/50\n",
            "34/34 [==============================] - 13s 393ms/step - loss: 0.0514 - accuracy: 0.9959 - val_loss: 0.0297 - val_accuracy: 0.9964\n",
            "Epoch 7/50\n",
            "34/34 [==============================] - 13s 386ms/step - loss: 0.0501 - accuracy: 0.9893 - val_loss: 0.0256 - val_accuracy: 0.9964\n",
            "Epoch 8/50\n",
            "34/34 [==============================] - 13s 383ms/step - loss: 0.0496 - accuracy: 0.9907 - val_loss: 0.0230 - val_accuracy: 0.9964\n",
            "Epoch 9/50\n",
            "34/34 [==============================] - 13s 384ms/step - loss: 0.0323 - accuracy: 0.9926 - val_loss: 0.0205 - val_accuracy: 0.9964\n",
            "Epoch 10/50\n",
            "34/34 [==============================] - 13s 382ms/step - loss: 0.0342 - accuracy: 0.9953 - val_loss: 0.0186 - val_accuracy: 0.9964\n",
            "Epoch 11/50\n",
            "34/34 [==============================] - 13s 380ms/step - loss: 0.0277 - accuracy: 0.9963 - val_loss: 0.0169 - val_accuracy: 0.9964\n",
            "Epoch 12/50\n",
            "34/34 [==============================] - 13s 387ms/step - loss: 0.0251 - accuracy: 0.9959 - val_loss: 0.0152 - val_accuracy: 0.9964\n",
            "Epoch 13/50\n",
            "34/34 [==============================] - 13s 383ms/step - loss: 0.0307 - accuracy: 0.9908 - val_loss: 0.0142 - val_accuracy: 0.9964\n",
            "Epoch 14/50\n",
            "34/34 [==============================] - 13s 382ms/step - loss: 0.0254 - accuracy: 0.9925 - val_loss: 0.0132 - val_accuracy: 0.9964\n",
            "Epoch 15/50\n",
            "34/34 [==============================] - 13s 388ms/step - loss: 0.0188 - accuracy: 0.9976 - val_loss: 0.0128 - val_accuracy: 1.0000\n",
            "Epoch 16/50\n",
            "34/34 [==============================] - 13s 389ms/step - loss: 0.0175 - accuracy: 0.9982 - val_loss: 0.0124 - val_accuracy: 1.0000\n",
            "Epoch 17/50\n",
            "34/34 [==============================] - 13s 379ms/step - loss: 0.0243 - accuracy: 0.9965 - val_loss: 0.0125 - val_accuracy: 1.0000\n",
            "Epoch 18/50\n",
            "34/34 [==============================] - 13s 378ms/step - loss: 0.0197 - accuracy: 0.9952 - val_loss: 0.0111 - val_accuracy: 0.9964\n",
            "Epoch 19/50\n",
            "34/34 [==============================] - 13s 378ms/step - loss: 0.0223 - accuracy: 0.9946 - val_loss: 0.0105 - val_accuracy: 0.9964\n",
            "Epoch 20/50\n",
            "34/34 [==============================] - 13s 384ms/step - loss: 0.0144 - accuracy: 0.9971 - val_loss: 0.0118 - val_accuracy: 1.0000\n",
            "Epoch 21/50\n",
            "34/34 [==============================] - 13s 377ms/step - loss: 0.0169 - accuracy: 0.9949 - val_loss: 0.0101 - val_accuracy: 0.9964\n",
            "Epoch 22/50\n",
            "34/34 [==============================] - 13s 382ms/step - loss: 0.0137 - accuracy: 0.9978 - val_loss: 0.0102 - val_accuracy: 0.9964\n",
            "Epoch 23/50\n",
            "34/34 [==============================] - 13s 382ms/step - loss: 0.0076 - accuracy: 1.0000 - val_loss: 0.0098 - val_accuracy: 0.9964\n",
            "Epoch 24/50\n",
            "34/34 [==============================] - 13s 395ms/step - loss: 0.0094 - accuracy: 0.9999 - val_loss: 0.0094 - val_accuracy: 0.9964\n",
            "Epoch 25/50\n",
            "34/34 [==============================] - 13s 384ms/step - loss: 0.0196 - accuracy: 0.9936 - val_loss: 0.0104 - val_accuracy: 1.0000\n",
            "Epoch 26/50\n",
            "34/34 [==============================] - 13s 383ms/step - loss: 0.0083 - accuracy: 0.9997 - val_loss: 0.0097 - val_accuracy: 0.9964\n",
            "Epoch 27/50\n",
            "34/34 [==============================] - 13s 382ms/step - loss: 0.0206 - accuracy: 0.9944 - val_loss: 0.0098 - val_accuracy: 0.9964\n",
            "Epoch 28/50\n",
            "34/34 [==============================] - 13s 373ms/step - loss: 0.0086 - accuracy: 0.9991 - val_loss: 0.0092 - val_accuracy: 0.9964\n",
            "Epoch 29/50\n",
            "34/34 [==============================] - 13s 374ms/step - loss: 0.0087 - accuracy: 0.9993 - val_loss: 0.0101 - val_accuracy: 1.0000\n",
            "Epoch 30/50\n",
            "34/34 [==============================] - 13s 376ms/step - loss: 0.0102 - accuracy: 0.9978 - val_loss: 0.0091 - val_accuracy: 0.9964\n",
            "Epoch 31/50\n",
            "34/34 [==============================] - 13s 382ms/step - loss: 0.0119 - accuracy: 0.9959 - val_loss: 0.0092 - val_accuracy: 0.9964\n",
            "Epoch 32/50\n",
            "34/34 [==============================] - 13s 387ms/step - loss: 0.0143 - accuracy: 0.9946 - val_loss: 0.0096 - val_accuracy: 0.9964\n",
            "Epoch 33/50\n",
            "34/34 [==============================] - 13s 377ms/step - loss: 0.0089 - accuracy: 0.9972 - val_loss: 0.0096 - val_accuracy: 0.9964\n",
            "Epoch 34/50\n",
            "34/34 [==============================] - 13s 383ms/step - loss: 0.0071 - accuracy: 0.9999 - val_loss: 0.0096 - val_accuracy: 0.9964\n",
            "Epoch 35/50\n",
            "34/34 [==============================] - 13s 388ms/step - loss: 0.0123 - accuracy: 0.9970 - val_loss: 0.0094 - val_accuracy: 0.9964\n",
            "Epoch 36/50\n",
            "34/34 [==============================] - 13s 379ms/step - loss: 0.0107 - accuracy: 0.9984 - val_loss: 0.0096 - val_accuracy: 0.9928\n",
            "Epoch 37/50\n",
            "34/34 [==============================] - 13s 381ms/step - loss: 0.0046 - accuracy: 0.9999 - val_loss: 0.0095 - val_accuracy: 0.9964\n",
            "Epoch 38/50\n",
            "34/34 [==============================] - 13s 378ms/step - loss: 0.0064 - accuracy: 0.9999 - val_loss: 0.0090 - val_accuracy: 0.9964\n",
            "Epoch 39/50\n",
            "34/34 [==============================] - 13s 376ms/step - loss: 0.0070 - accuracy: 0.9992 - val_loss: 0.0086 - val_accuracy: 0.9964\n",
            "Epoch 40/50\n",
            "34/34 [==============================] - 13s 374ms/step - loss: 0.0050 - accuracy: 0.9998 - val_loss: 0.0084 - val_accuracy: 0.9964\n",
            "Epoch 41/50\n",
            "34/34 [==============================] - 13s 374ms/step - loss: 0.0095 - accuracy: 0.9966 - val_loss: 0.0080 - val_accuracy: 0.9964\n",
            "Epoch 42/50\n",
            "34/34 [==============================] - 13s 384ms/step - loss: 0.0075 - accuracy: 0.9983 - val_loss: 0.0080 - val_accuracy: 0.9964\n",
            "Epoch 43/50\n",
            "34/34 [==============================] - 13s 374ms/step - loss: 0.0075 - accuracy: 0.9976 - val_loss: 0.0083 - val_accuracy: 0.9964\n",
            "Epoch 44/50\n",
            "34/34 [==============================] - 13s 374ms/step - loss: 0.0055 - accuracy: 1.0000 - val_loss: 0.0078 - val_accuracy: 0.9964\n",
            "Epoch 45/50\n",
            "34/34 [==============================] - 13s 371ms/step - loss: 0.0058 - accuracy: 0.9994 - val_loss: 0.0079 - val_accuracy: 0.9964\n",
            "Epoch 46/50\n",
            "34/34 [==============================] - 13s 382ms/step - loss: 0.0052 - accuracy: 0.9990 - val_loss: 0.0081 - val_accuracy: 1.0000\n",
            "Epoch 47/50\n",
            "34/34 [==============================] - 13s 376ms/step - loss: 0.0066 - accuracy: 0.9991 - val_loss: 0.0081 - val_accuracy: 0.9964\n",
            "Epoch 48/50\n",
            "34/34 [==============================] - 13s 371ms/step - loss: 0.0060 - accuracy: 0.9973 - val_loss: 0.0081 - val_accuracy: 0.9964\n",
            "Epoch 49/50\n",
            "34/34 [==============================] - 13s 371ms/step - loss: 0.0048 - accuracy: 0.9992 - val_loss: 0.0102 - val_accuracy: 0.9928\n",
            "Epoch 50/50\n",
            "34/34 [==============================] - 13s 378ms/step - loss: 0.0051 - accuracy: 0.9991 - val_loss: 0.0094 - val_accuracy: 0.9964\n"
          ],
          "name": "stdout"
        }
      ]
    },
    {
      "cell_type": "code",
      "metadata": {
        "id": "c5z8l3pnVO-E"
      },
      "source": [
        "from tensorflow import keras\n",
        "keras.utils.plot_model(\n",
        "    model, to_file='model.png', show_shapes=False, show_dtype=False,\n",
        "    show_layer_names=True, rankdir='TB', expand_nested=False, dpi=96\n",
        ")"
      ],
      "execution_count": null,
      "outputs": []
    },
    {
      "cell_type": "code",
      "metadata": {
        "colab": {
          "base_uri": "https://localhost:8080/",
          "height": 469
        },
        "id": "HnoDhV3V45GM",
        "outputId": "1fd791d4-e4c8-48d7-bfb0-a6986dea0b89"
      },
      "source": [
        "#evaluation of model\n",
        "print(\"[INFO] evaluating network...\")\n",
        "\n",
        "\n",
        "\n",
        "\n",
        "predIdxs = model.predict(testX, batch_size=batch_size)\n",
        "# for each image in the testing set we need to find the index of the\n",
        "# label with corresponding largest predicted probability\n",
        "predIdxs = np.argmax(predIdxs, axis=1)\n",
        "# show a nicely formatted classification report\n",
        "print(classification_report(testY.argmax(axis=1), predIdxs,\n",
        "\ttarget_names=lb.classes_))\n",
        "\n",
        "N = imc.epochs\n",
        "plt.style.use(\"ggplot\")\n",
        "plt.figure()\n",
        "plt.plot(np.arange(0, N), H.history[\"loss\"], label=\"train_loss\")\n",
        "plt.plot(np.arange(0, N), H.history[\"val_loss\"], label=\"val_loss\")\n",
        "plt.plot(np.arange(0, N), H.history[\"accuracy\"], label=\"train_acc\")\n",
        "plt.plot(np.arange(0, N), H.history[\"val_accuracy\"], label=\"val_acc\")\n",
        "plt.title(\"Training Loss and Accuracy\")\n",
        "plt.xlabel(\"Epoch #\")\n",
        "plt.ylabel(\"Loss/Accuracy\")\n",
        "plt.legend(loc=\"lower left\")\n",
        "\n",
        "\n",
        "model.save('model', save_format=\"h5\")"
      ],
      "execution_count": null,
      "outputs": [
        {
          "output_type": "stream",
          "text": [
            "[INFO] evaluating network...\n",
            "              precision    recall  f1-score   support\n",
            "\n",
            "   with_mask       1.00      0.99      1.00       138\n",
            "without_mask       0.99      1.00      1.00       138\n",
            "\n",
            "    accuracy                           1.00       276\n",
            "   macro avg       1.00      1.00      1.00       276\n",
            "weighted avg       1.00      1.00      1.00       276\n",
            "\n"
          ],
          "name": "stdout"
        },
        {
          "output_type": "display_data",
          "data": {
            "image/png": "[encoded data removed]",
            "text/plain": [
              "<Figure size 432x288 with 1 Axes>"
            ]
          },
          "metadata": {
            "tags": []
          }
        }
      ]
    },
    {
      "cell_type": "markdown",
      "metadata": {
        "id": "9Xkb9M7dNZzP"
      },
      "source": [
        "There is an issue of overfitting - and this will be considered later\n",
        "\n",
        "Save the model below\n"
      ]
    },
    {
      "cell_type": "code",
      "metadata": {
        "id": "GcBdkUzf4tvT"
      },
      "source": [
        ""
      ],
      "execution_count": null,
      "outputs": []
    }
  ]
}